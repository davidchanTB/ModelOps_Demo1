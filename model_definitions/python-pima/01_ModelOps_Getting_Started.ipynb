{
 "cells": [
  {
   "cell_type": "markdown",
   "id": "93451e5b",
   "metadata": {},
   "source": [
    "<header>\n",
    "   <p  style='font-size:36px;font-family:Arial; color:#F0F0F0; background-color: #00233c; padding-left: 20pt; padding-top: 20pt;padding-bottom: 10pt; padding-right: 20pt;'>\n",
    "       ModelOps Getting Started\n",
    "  <br>\n",
    "       <img id=\"teradata-logo\" src=\"https://storage.googleapis.com/clearscape_analytics_demo_data/DEMO_Logo/teradata.svg\" alt=\"Teradata\" style=\"width: 125px; height: auto; margin-top: 20pt;\">\n",
    "    </p>\n",
    "</header>"
   ]
  },
  {
   "cell_type": "markdown",
   "id": "e0497bbc-2384-498d-a245-bdc477b4328e",
   "metadata": {},
   "source": [
    "![image](images/01_00.png) "
   ]
  },
  {
   "cell_type": "markdown",
   "id": "4fecc4a9",
   "metadata": {},
   "source": [
    "<p style = 'font-size:20px;font-family:Arial;color:#00233C'><b>Introduction</b></p>\n",
    "<p style = 'font-size:16px;font-family:Arial;color:#00233C'>\n",
    "ClearScape Analytics ModelOps manages the operationalization of advanced analytics in Teradata Vantage providing Deployment, Governance and Monitoring of your AI/ML models at scale. ModelOps provides an easy-to-use web-based user interface (UI), a command line interface (CLI) and Python/R Software Development Kit (SDK).</p>"
   ]
  },
  {
   "cell_type": "markdown",
   "id": "0c90e88b-fb47-4594-80d4-66514ce0a789",
   "metadata": {},
   "source": [
    "You can see an introductory [ModelOps User interface video](https://www.youtube.com/watch?v=ZRqREsOMnXI&ab_channel=Teradata) in youtube: &ensp; [![View Video](images/Movie_icon.png)](https://www.youtube.com/watch?v=ZRqREsOMnXI&ab_channel=Teradata) "
   ]
  },
  {
   "cell_type": "markdown",
   "id": "ba5c685a-dde5-4850-a4b3-785e1455b804",
   "metadata": {},
   "source": [
    "<p style = 'font-size:20px;font-family:Arial;color:#00233C'><b>Steps in this Notebook</b></p>\n",
    "<ol style = 'font-size:16px;font-family:Arial;color:#00233C'>\n",
    "    <li>Understand the ModelOps Methodology</li>\n",
    "    <li>Login to ModelOps </li>\n",
    "    <li>Navigate through Demo Projects, Models and Datasets</li>\n",
    "    <li>Preloaded Models - Train, Evaluate, Approve and Deploy a new model version</li>\n",
    "    <li>Monitoring Capabilities</li>\n",
    "</ol>"
   ]
  },
  {
   "cell_type": "markdown",
   "id": "8bc40798-004b-4fd7-b8a1-db4ac5191fed",
   "metadata": {},
   "source": [
    "<hr style=\"height:2px;border:none;background-color:#00233C;\">\n",
    "<p style = 'font-size:20px;font-family:Arial;color:#00233C'><b>Step 1. Understand the ModelOps Methodology </b></p>"
   ]
  },
  {
   "cell_type": "markdown",
   "id": "faf6b531-3c32-414b-a45c-549f9defdbaf",
   "metadata": {},
   "source": [
    "<p style = 'font-size:16px;font-family:Arial;color:#00233C'>\n",
    "In the ModelOps methodology, The user interface is used when the model is ready to be operationalize. We will use this diagram in every demo notebook to understand where we are in the methodology.</p>\n",
    "<ul style = 'font-size:16px;font-family:Arial;color:#00233C'>\n",
    "    <li><b>Data Ingestion</b>: we have already preloaded the PIMA diabetes data tables in Vantage and created the Dataset templates in ModelOps for this demos</li><li><b>Create Project</b>: we have already preloaded a DEMO project in ModelOps </li>\n",
    "    <li><b>Discovery</b>: This is the work done in the notebook to explore and create new data features and experiment on the best model.</li>\n",
    "    <li><b>Finalize AI Model</b>: Here, we will show you how to prepare and test with our SDK and CLI tools the models before operationalize</li>\n",
    "    <li><b>ModelOps User Interface</b>: we will go through the screens of ModelOps to track model lifecycle (Training/Import, Evaluation, Approval, Deployment, Scoring and Monitoring).</li>\n",
    "</ul>"
   ]
  },
  {
   "cell_type": "markdown",
   "id": "81e13d71-28ee-41ac-be8f-e2c5b38e5eab",
   "metadata": {},
   "source": [
    "![image](images/01_01.png)  "
   ]
  },
  {
   "cell_type": "markdown",
   "id": "863119f1-9765-47bb-9391-2137672f7bb3",
   "metadata": {},
   "source": [
    "<hr style=\"height:2px;border:none;background-color:#00233C;\">\n",
    "<p style = 'font-size:20px;font-family:Arial;color:#00233C'><b>Step 2. Login to ModelOps</b></p>"
   ]
  },
  {
   "cell_type": "markdown",
   "id": "9beb2a0b-0032-46fb-ac6a-7ad9e6ea53eb",
   "metadata": {},
   "source": [
    "<p style = 'font-size:16px;font-family:Arial;color:#00233C'>When launching ModelOps you will be requested for login and password. Use \"demo_user\" for username and your password of ClearScape Analytics Experience</p>"
   ]
  },
  {
   "cell_type": "markdown",
   "id": "5c221114-a09b-4387-9935-673116494298",
   "metadata": {},
   "source": [
    "<img src=\"images/01_02.png\" alt=\"BYOM model lifecycle\" width=\"400\" height=\"400\"/>"
   ]
  },
  {
   "cell_type": "markdown",
   "id": "00c51195-886f-4653-ac94-3c034beaffbe",
   "metadata": {},
   "source": [
    "<p style = 'font-size:16px;font-family:Arial;color:#00233C'>First time you get into ModelOps you will see a Home Page - whether in Light or Dark Mode depending on your browser preferences</p>"
   ]
  },
  {
   "cell_type": "markdown",
   "id": "4386d340-32fb-453c-8e16-608ecb4c0cb8",
   "metadata": {},
   "source": [
    "<img src=\"images/01_03.png\" alt=\"BYOM model lifecycle\" width=\"500\" height=\"500\"/> <img src=\"images/01_04.png\" alt=\"BYOM model lifecycle\" width=\"500\" height=\"500\"/> "
   ]
  },
  {
   "cell_type": "markdown",
   "id": "3525b57b-5599-4cba-bba8-24050a7c4462",
   "metadata": {},
   "source": [
    "<p style = 'font-size:16px;font-family:Arial;color:#00233C'>Launch the ModelOps to try this Step by yourself and come back to continue tutorial:</p>\n",
    "\n",
    "<p style = 'font-size:16px;font-family:Arial;color:#00233C'>you can change from Dark to Light (and vice versa) theme from the user icon:</p>"
   ]
  },
  {
   "cell_type": "markdown",
   "id": "466214ee-4f83-4a7c-b22e-d925a28ed151",
   "metadata": {},
   "source": [
    "<img src=\"images/01_05.png\" alt=\"BYOM model lifecycle\" width=\"300\" height=\"300\"/> "
   ]
  },
  {
   "cell_type": "markdown",
   "id": "6a2a4a0f-20ac-4550-a405-d7c40cef365c",
   "metadata": {},
   "source": [
    "<p style = 'font-size:16px;font-family:Arial;color:#00233C'>Go and try this Step by yourself. Launch ModelOps from this button below:</p>"
   ]
  },
  {
   "cell_type": "markdown",
   "id": "4edd7fba-5a07-4630-bc17-e5c778cdfd23",
   "metadata": {},
   "source": [
    "[![image](images/launchModelOps.png)](/modelops)"
   ]
  },
  {
   "cell_type": "markdown",
   "id": "9c21b608-585f-42fb-939e-edbb5243e368",
   "metadata": {
    "tags": []
   },
   "source": [
    "<hr style=\"height:2px;border:none;background-color:#00233C;\">\n",
    "<p style = 'font-size:20px;font-family:Arial;color:#00233C'><b>Step 3. Navigate through Demo Projects, Models and Datasets</b></p>"
   ]
  },
  {
   "cell_type": "markdown",
   "id": "a8487c2a-93b2-457b-971d-1b55c62fe00d",
   "metadata": {
    "tags": []
   },
   "source": [
    "<p style = 'font-size:18px;font-family:Arial;color:#00233C'><b>3.1 Projects</b></p>\n",
    "<p style = 'font-size:16px;font-family:Arial;color:#00233C'>Take a look at the Demo Project, you can edit and see the details of it. This project is linked to a public git repository <a href ='https://github.com/teradata/modelops-demo-models.git'>https://github.com/teradata/modelops-demo-models.git</a> in its Master branch.</p>\n",
    "<p style = 'font-size:16px;font-family:Arial;color:#00233C'>\n",
    "Open it just by clicking on it and you will get directly to the models inside the project.</p>"
   ]
  },
  {
   "cell_type": "markdown",
   "id": "10975dbc-f8d0-4ad6-b022-426e8b131bee",
   "metadata": {
    "jp-MarkdownHeadingCollapsed": true,
    "tags": []
   },
   "source": [
    "<img src=\"images/01_06.png\" alt=\"BYOM model lifecycle\" width=\"1000\" height=\"200\"/>"
   ]
  },
  {
   "cell_type": "markdown",
   "id": "7c074359-b056-4203-9479-48d9fd94e1e2",
   "metadata": {
    "tags": []
   },
   "source": [
    "<hr style=\"height:1px;border:none;background-color:#00233C;\">\n",
    "<p style = 'font-size:18px;font-family:Arial;color:#00233C'><b>3.2 Models</b></p>\n",
    "<p style = 'font-size:16px;font-family:Arial;color:#00233C'>We have 2 pre-loaded models in the Demo project.</p>\n",
    "<ol style = 'font-size:16px;font-family:Arial;color:#00233C'>\n",
    "        <li style = 'font-size:16px;font-family:Arial'>Python XGBoost for Diabetes Prediction</li>\n",
    "        <li style = 'font-size:16px;font-family:Arial'>R GBM Diabetes for Diabetes Prediction</li>\n",
    "</ol>"
   ]
  },
  {
   "cell_type": "markdown",
   "id": "10dee4ec-3ce1-4df0-9e38-731ebafae70f",
   "metadata": {},
   "source": [
    "<img src=\"images/01_07.png\" alt=\"BYOM model lifecycle\" width=\"1000\" height=\"200\"/>"
   ]
  },
  {
   "cell_type": "markdown",
   "id": "b5c98d3d-01c9-4230-b20e-605dfa321860",
   "metadata": {
    "tags": []
   },
   "source": [
    "<hr style=\"height:1px;border:none;background-color:#00233C;\">\n",
    "<p style = 'font-size:18px;font-family:Arial;color:#00233C'><b>3.3 Datasets</b></p>\n",
    "<p style = 'font-size:16px;font-family:Arial;color:#00233C'>Dataset templates have multiple Training and Evaluation datasets that are used for ModelOps jobs. We have 1 Dataset template with 2 datasets preloaded: one for training and another one for Evaluation</p>"
   ]
  },
  {
   "cell_type": "markdown",
   "id": "660b7085-3dfe-4fb5-b70d-9af3804f86fe",
   "metadata": {},
   "source": [
    "<p style = 'font-size:16px;font-family:Arial;color:#00233C'>Get inside the dataset template and edit the training dataset. You can also see the Query and preview Data of it.</p>"
   ]
  },
  {
   "cell_type": "markdown",
   "id": "d2c66c86-874c-42eb-af72-38c1fed3d89d",
   "metadata": {},
   "source": [
    "<img src=\"images/01_08.png\" alt=\"BYOM model lifecycle\" width=\"1000\" height=\"200\"/>\n",
    "\n",
    "<img src=\"images/01_09.png\" alt=\"BYOM model lifecycle\" width=\"400\" height=\"400\"/><img src=\"images/01_10.png\" alt=\"BYOM model lifecycle\" width=\"400\" height=\"400\"/>"
   ]
  },
  {
   "cell_type": "markdown",
   "id": "016b97d2-b494-47fe-b274-51007f1d3741",
   "metadata": {
    "tags": []
   },
   "source": [
    "<hr style=\"height:1px;border:none;background-color:#00233C;\">\n",
    "<p style = 'font-size:18px;font-family:Arial;color:#00233C'><b>3.4 Settings</b></p>\n",
    "<p style = 'font-size:16px;font-family:Arial;color:#00233C'>Take a look at the Project Settings, here is where we create Personal or Service connections to Vantage, we can specify a default email for notifications of ModelOps jobs and see Logs of ModelOps services.<br><br>\n",
    "We've created a connection with demo_user and your password to Vantage. Open View details to confirm you have access to Vantage, VAL and BYOM functions. This is very useful when you connect into a Production instance and want to make sure that you have the right permissions to run ModelOps there.</p>"
   ]
  },
  {
   "cell_type": "markdown",
   "id": "32a32ccb-222e-4ce9-aaf8-f9520477c5a5",
   "metadata": {},
   "source": [
    "<img src=\"images/01_11.png\" alt=\"BYOM model lifecycle\" width=\"1000\" height=\"200\"/>\n",
    "<img src=\"images/01_12.png\" alt=\"BYOM model lifecycle\" width=\"200\" height=\"200\"/><img src=\"images/01_13.png\" alt=\"BYOM model lifecycle\" width=\"400\" height=\"400\"/>\n"
   ]
  },
  {
   "cell_type": "markdown",
   "id": "95635c45-2613-4be8-a638-1c12012ede46",
   "metadata": {},
   "source": [
    "<p style = 'font-size:16px;font-family:Arial;color:#00233C'>Go and try this Step by yourself. Launch ModelOps from this button below:</p>"
   ]
  },
  {
   "cell_type": "markdown",
   "id": "49348347-5ca9-46be-84b7-5f9bca0b61d9",
   "metadata": {},
   "source": [
    "[![image](images/launchModelOps.png)](/modelops)"
   ]
  },
  {
   "cell_type": "markdown",
   "id": "9014a16e-ea4c-4304-9dc2-ff92cbbce640",
   "metadata": {
    "tags": []
   },
   "source": [
    "<hr style=\"height:2px;border:none;background-color:#00233C;\">\n",
    "<p style = 'font-size:20px;font-family:Arial;color:#00233C'><b>Step 4. Preloaded Models - Train, Evaluate, Approve and Deploy a new model version</b></p>"
   ]
  },
  {
   "cell_type": "markdown",
   "id": "9a87e840-f833-4537-b4df-e8395ac5a740",
   "metadata": {},
   "source": [
    "<p style = 'font-size:16px;font-family:Arial;color:#00233C'>Go to Models and Open your model Python Diabetes Prediction\n",
    "You still don't have any model version in ModelOps. You need to train one.</p>"
   ]
  },
  {
   "cell_type": "markdown",
   "id": "fc5fbb2f-27a8-4b8c-af24-82e36a2f3f10",
   "metadata": {
    "tags": []
   },
   "source": [
    "<img src=\"images/01_14.png\" alt=\"BYOM model lifecycle\" width=\"1000\" height=\"200\"/>"
   ]
  },
  {
   "cell_type": "markdown",
   "id": "d054e92e-8732-4969-8ebf-1e8510bc1291",
   "metadata": {},
   "source": [
    "<p style = 'font-size:16px;font-family:Arial;color:#00233C'>Train a new model version using the train button and leave the hyperparameters as it is:</p>"
   ]
  },
  {
   "cell_type": "markdown",
   "id": "20fedd65-1a98-4576-9f00-3cb9f379e75b",
   "metadata": {},
   "source": [
    "<img src=\"images/01_15.png\" alt=\"BYOM model lifecycle\" width=\"400\" height=\"200\"/>"
   ]
  },
  {
   "cell_type": "markdown",
   "id": "a32115d4-d3e5-49f2-b4b0-8ec30dbd194c",
   "metadata": {},
   "source": [
    "<p style = 'font-size:16px;font-family:Arial;color:#00233C'>Now wait till your model version is trained. This should take around 2 minutes. You can check this job from the Job screen going into the left menu -> Jobs</p>"
   ]
  },
  {
   "cell_type": "markdown",
   "id": "54ef53bf-dcab-40c0-8272-b7d857dc665e",
   "metadata": {},
   "source": [
    "<img src=\"images/01_16.png\" alt=\"BYOM model lifecycle\" width=\"400\" height=\"200\"/>\n",
    "\n",
    "<img src=\"images/01_17.png\" alt=\"BYOM model lifecycle\" width=\"1000\" height=\"200\"/>"
   ]
  },
  {
   "cell_type": "markdown",
   "id": "f7440e33-8636-4dd1-957b-be3cdfc247ef",
   "metadata": {},
   "source": [
    "<p style = 'font-size:16px;font-family:Arial;color:#00233C'>Now your model version is trained, get inside the model version to see the lifecycle screen and Evaluate the model to get a Model Report. Use the button Evaluate. This will generate a new Job that will take around 2 minutes</p>"
   ]
  },
  {
   "cell_type": "markdown",
   "id": "22363a11-cbc3-4733-af63-a43724f0ae92",
   "metadata": {
    "tags": []
   },
   "source": [
    "<img src=\"images/01_18.png\" alt=\"BYOM model lifecycle\" width=\"1000\" height=\"200\"/>\n",
    "\n",
    "<img src=\"images/01_19.png\" alt=\"BYOM model lifecycle\" width=\"400\" height=\"200\"/> <img src=\"images/01_20.png\" alt=\"BYOM model lifecycle\" width=\"400\" height=\"200\"/>"
   ]
  },
  {
   "cell_type": "markdown",
   "id": "cda1a3c1-b870-4340-9166-20f58f991645",
   "metadata": {},
   "source": [
    "<p style = 'font-size:16px;font-family:Arial;color:#00233C'>Wait till this model is evaluated and then see the evaluation details, including the model report (metrics and charts).</p>"
   ]
  },
  {
   "cell_type": "markdown",
   "id": "6fbe7a08-a39a-4a72-b3ed-ded728aafb96",
   "metadata": {},
   "source": [
    "<img src=\"images/01_21.png\" alt=\"BYOM model lifecycle\" width=\"1000\" height=\"100\"/>\n",
    "\n",
    "<img src=\"images/01_22.png\" alt=\"BYOM model lifecycle\" width=\"1000\" height=\"200\"/>\n"
   ]
  },
  {
   "cell_type": "markdown",
   "id": "fae014b2-f195-4473-85a9-26447ce4632c",
   "metadata": {},
   "source": [
    "<p style = 'font-size:16px;font-family:Arial;color:#00233C'>Now you can Approve this model to go to Production</p>"
   ]
  },
  {
   "cell_type": "markdown",
   "id": "57119ee8-fdb4-430a-96b0-b5c96c4faa3b",
   "metadata": {},
   "source": [
    "<img src=\"images/01_23.png\" alt=\"BYOM model lifecycle\" width=\"400\" height=\"200\"/>"
   ]
  },
  {
   "cell_type": "markdown",
   "id": "27c65b5e-d53b-4828-b311-a45f03bd5a84",
   "metadata": {},
   "source": [
    "<p style = 'font-size:16px;font-family:Arial;color:#00233C'>Now, Deploy the model. You can select:</p>\n",
    "<ul style = 'font-size:16px;font-family:Arial;color:#00233C'>\n",
    "    <li style = 'font-size:16px;font-family:Arial'> <b>In Vantage</b> - this will deploy the model as PMML in Vantage</li>\n",
    "    <li style = 'font-size:16px;font-family:Arial'> <b>Docker</b> - Batch - this will deploy the model in a ModelOps container and will schedule as desired.</li>\n",
    "</ul>\n",
    "<p style = 'font-size:16px;font-family:Arial;color:#00233C'>Deploy this model in these 2 scenarios</p>"
   ]
  },
  {
   "cell_type": "markdown",
   "id": "6e336a2b-a5d2-4297-b427-cfe8611311c5",
   "metadata": {},
   "source": [
    "<img src=\"images/01_24.png\" alt=\"BYOM model lifecycle\" width=\"400\" height=\"200\"/>"
   ]
  },
  {
   "cell_type": "markdown",
   "id": "cf867a5b-ae3c-4db1-9edb-d5d5d43ae72e",
   "metadata": {},
   "source": [
    "<p style = 'font-size:16px;font-family:Arial;color:#00233C'>For In-Vantage</p>\n",
    "<ul style = 'font-size:16px;font-family:Arial;color:#00233C'>\n",
    "    <li>select In Vantage as engine in the 1st screen</li>\n",
    "    <li>use demo_user as database and aoa_byom_models as table</li>\n",
    "    <li>Deploy</li>\n",
    "</ul>\n",
    "<p style = 'font-size:16px;font-family:Arial;color:#00233C'>Wait till the deployment job is finished, this should take around 10 seconds</p>"
   ]
  },
  {
   "cell_type": "markdown",
   "id": "8d221eed-945f-4d3d-8758-28b76de6f5ff",
   "metadata": {},
   "source": [
    "<img src=\"images/01_25.png\" alt=\"BYOM model lifecycle\" width=\"400\" height=\"200\"/>  <img src=\"images/01_26.png\" alt=\"BYOM model lifecycle\" width=\"400\" height=\"200\"/>"
   ]
  },
  {
   "cell_type": "markdown",
   "id": "d2674512-32bd-4a71-ab34-08daddbc628a",
   "metadata": {},
   "source": [
    "<p style = 'font-size:16px;font-family:Arial;color:#00233C'>For Docker Batch</p>\n",
    "<ul style = 'font-size:16px;font-family:Arial;color:#00233C'>\n",
    "    <li>Select Docker - Batch</li>\n",
    "    <li>Continue to Schedule</li>\n",
    "    <li>Select Run Once</li>\n",
    "</ul>\n",
    "<p style = 'font-size:16px;font-family:Arial;color:#00233C'>Wait till the deployment job is finished, this should take around 10 seconds</p>"
   ]
  },
  {
   "cell_type": "markdown",
   "id": "73faaf11-3928-4aa8-a424-1b0282fa3f5b",
   "metadata": {},
   "source": [
    "<img src=\"images/01_27.png\" alt=\"BYOM model lifecycle\" width=\"400\" height=\"200\"/>  <img src=\"images/01_28.png\" alt=\"BYOM model lifecycle\" width=\"400\" height=\"200\"/> \n",
    "\n",
    "<img src=\"images/01_29.png\" alt=\"BYOM model lifecycle\" width=\"400\" height=\"200\"/> "
   ]
  },
  {
   "cell_type": "markdown",
   "id": "ff28ffde-1f58-4489-a208-c9a4d2723901",
   "metadata": {},
   "source": [
    "<p style = 'font-size:16px;font-family:Arial;color:#00233C'>Go and try this Step by yourself. Launch ModelOps from this button below:</p>"
   ]
  },
  {
   "cell_type": "markdown",
   "id": "4ddf423d-1cf3-43a7-a44d-959c9cdcfa63",
   "metadata": {},
   "source": [
    "[![image](images/launchModelOps.png)](/modelops)"
   ]
  },
  {
   "cell_type": "markdown",
   "id": "75c86020-ed4a-4c36-b53b-61da5d1ce527",
   "metadata": {
    "tags": []
   },
   "source": [
    "<hr style=\"height:2px;border:none;background-color:#00233C;\">\n",
    "<p style = 'font-size:20px;font-family:Arial;color:#00233C'><b>Step 5. Monitoring Capabilities</b></p>\n",
    "<p style = 'font-size:16px;font-family:Arial;color:#00233C'>Now we can go to our Deployments Screen and we will see the model version deployed in-Vantage and Docker-Batch</p>"
   ]
  },
  {
   "cell_type": "markdown",
   "id": "77c557ff-0e77-4cb4-823d-59490964afda",
   "metadata": {},
   "source": [
    "<img src=\"images/01_30.png\" alt=\"BYOM model lifecycle\" width=\"1000\" height=\"200\"/> "
   ]
  },
  {
   "cell_type": "markdown",
   "id": "16ec1779-d973-4dcb-b7be-acc9f1fe7961",
   "metadata": {},
   "source": [
    "<p style = 'font-size:16px;font-family:Arial;color:#00233C'>Get inside Docker Batch deployment to see details and get into the Jobs tab, your scoring job might be running (wait till is finished) or finished. <br>You can also run now another scoring job from here<br>This can be also scheduled externally in other environments through a Rest API or Python SDK</p>"
   ]
  },
  {
   "cell_type": "markdown",
   "id": "431092bf-fa3d-44b4-a278-d9b230fb97d1",
   "metadata": {},
   "source": [
    "<img src=\"images/01_31.png\" alt=\"BYOM model lifecycle\" width=\"1000\" height=\"200\"/> "
   ]
  },
  {
   "cell_type": "markdown",
   "id": "2e93ad81-84d1-4358-bd09-7eae72d28746",
   "metadata": {},
   "source": [
    "<p style = 'font-size:16px;font-family:Arial;color:#00233C'>Let's review the Predictions from here</p>"
   ]
  },
  {
   "cell_type": "markdown",
   "id": "a0fc330e-1744-412b-a27f-fc3240fbc393",
   "metadata": {},
   "source": [
    "<img src=\"images/01_32.png\" alt=\"BYOM model lifecycle\" width=\"200\" height=\"200\"/> \n",
    "\n",
    "<img src=\"images/01_33.png\" alt=\"BYOM model lifecycle\" width=\"400\" height=\"200\"/> "
   ]
  },
  {
   "cell_type": "markdown",
   "id": "61aa1b93-5fca-458c-91ad-315b9c5c0fe4",
   "metadata": {},
   "source": [
    "<p style = 'font-size:16px;font-family:Arial;color:#00233C'>Now let's see the Monitoring of Data Drift - Feature Drift and Prediction Drift<br>\n",
    "This is automatically configured with Population Stability Index (PSI) of the distribution of data histograms between Training and Scoring</p>"
   ]
  },
  {
   "cell_type": "markdown",
   "id": "a19613ad-a859-4711-a261-98062456d2e4",
   "metadata": {},
   "source": [
    "<img src=\"images/01_34.png\" alt=\"BYOM model lifecycle\" width=\"1000\" height=\"200\"/> "
   ]
  },
  {
   "cell_type": "markdown",
   "id": "facc9972-f505-40b9-977a-09d77dc68017",
   "metadata": {},
   "source": [
    "<img src=\"images/01_35.png\" alt=\"BYOM model lifecycle\" width=\"1000\" height=\"200\"/> "
   ]
  },
  {
   "cell_type": "markdown",
   "id": "c9b60b2b-5720-4c55-9018-731ceeaa06f9",
   "metadata": {},
   "source": [
    "<p style = 'font-size:16px;font-family:Arial;color:#00233C'>Now let's see the Performance Drift<br>This is monitoring the metrics generated for every evaluation. We can create a new Dataset and re-evaluate the model to see the trend of the metrics (this will be covered in Advanced section)</p>"
   ]
  },
  {
   "cell_type": "markdown",
   "id": "60f7335f-a842-4e85-89b4-85ddda7f1460",
   "metadata": {},
   "source": [
    "<img src=\"images/01_36.png\" alt=\"BYOM model lifecycle\" width=\"1000\" height=\"200\"/> "
   ]
  },
  {
   "cell_type": "markdown",
   "id": "5f35159a-7172-49a3-8eaf-0bf5772c32f6",
   "metadata": {},
   "source": [
    "<p style = 'font-size:16px;font-family:Arial;color:#00233C'>Go and try this Step by yourself. Launch ModelOps from this button below:</p>"
   ]
  },
  {
   "cell_type": "markdown",
   "id": "39027294-ff7f-43fb-9554-505a95acaefb",
   "metadata": {},
   "source": [
    "[![image](images/launchModelOps.png)](/modelops)"
   ]
  },
  {
   "cell_type": "markdown",
   "id": "1db34114-0425-45ff-bd0d-15970d844d25",
   "metadata": {},
   "source": [
    "<p style = 'font-size:16px;font-family:Arial;color:#00233C'><b>Congratulations!</b>You've operationalized your first model with ModelOps. Now you know how to navigate in the application and how we track all the Jobs of the models' lifecycle</p>"
   ]
  },
  {
   "cell_type": "markdown",
   "id": "2f4a0d64-0548-49c8-a43b-a7ea41fabeae",
   "metadata": {},
   "source": [
    "[<< Back to Introduction](./00_ModelOps_Introduction.ipynb) | [Continue to PIMA Experimentation >>](./02_ModelOps_PIMA_Experimentation.ipynb)"
   ]
  },
  {
   "cell_type": "markdown",
   "id": "36c63233",
   "metadata": {},
   "source": [
    "<footer style=\"padding-bottom:35px; background:#f9f9f9; border-bottom:3px solid #00233C\">\n",
    "    <div style=\"float:left;margin-top:14px\">ClearScape Analytics™</div>\n",
    "    <div style=\"float:right;\">\n",
    "        <div style=\"float:left; margin-top:14px\">\n",
    "            Copyright © Teradata Corporation - 2023. All Rights Reserved\n",
    "        </div>\n",
    "    </div>\n",
    "</footer>"
   ]
  }
 ],
 "metadata": {
  "kernelspec": {
   "display_name": "Python 3 (ipykernel)",
   "language": "python",
   "name": "python3"
  },
  "language_info": {
   "codemirror_mode": {
    "name": "ipython",
    "version": 3
   },
   "file_extension": ".py",
   "mimetype": "text/x-python",
   "name": "python",
   "nbconvert_exporter": "python",
   "pygments_lexer": "ipython3",
   "version": "3.9.10"
  }
 },
 "nbformat": 4,
 "nbformat_minor": 5
}
